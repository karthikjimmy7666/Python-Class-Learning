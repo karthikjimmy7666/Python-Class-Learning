{
 "cells": [
  {
   "cell_type": "markdown",
   "id": "e6a99686",
   "metadata": {},
   "source": [
    "Any jupyter file will have extension .ipynb(interactive python notebook) which runs only in jupyter notebook.\n",
    "\n",
    "any other python file created in notepad or other ide will have .py extension\n",
    "\n",
    "we can convert .ipynb file to .py by going to jupyter file and convert.\n"
   ]
  },
  {
   "cell_type": "markdown",
   "id": "9e5ac87a",
   "metadata": {},
   "source": [
    "# Markdown Learning\n",
    "## Markdown header can be used using # space header\n",
    "### you have select Markdown in the list down in the above option.\n",
    "#### Markdown is just for adding notes .\n",
    "##### you can use till 5 ##### different hashes as header\n"
   ]
  },
  {
   "cell_type": "markdown",
   "id": "08da4079",
   "metadata": {},
   "source": [
    "# How to create bullet points in Markdown cell\n",
    "\n",
    "## use number. space to create bullet point with number\n",
    "\n",
    "### use *. space to create bullet point without number like .(dot)\n",
    "\n",
    "1. Karthik\n",
    "2. Sowndhi\n",
    "3. Jaiidhiir\n",
    "\n",
    "*.Karthik\n",
    "*. Sowndhi\n",
    "*. Jaiidhiir\n"
   ]
  },
  {
   "cell_type": "code",
   "execution_count": null,
   "id": "f910a1ed",
   "metadata": {},
   "outputs": [],
   "source": []
  }
 ],
 "metadata": {
  "kernelspec": {
   "display_name": "Python 3 (ipykernel)",
   "language": "python",
   "name": "python3"
  },
  "language_info": {
   "codemirror_mode": {
    "name": "ipython",
    "version": 3
   },
   "file_extension": ".py",
   "mimetype": "text/x-python",
   "name": "python",
   "nbconvert_exporter": "python",
   "pygments_lexer": "ipython3",
   "version": "3.9.7"
  }
 },
 "nbformat": 4,
 "nbformat_minor": 5
}
